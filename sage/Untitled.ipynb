{
 "cells": [
  {
   "cell_type": "code",
   "execution_count": 2,
   "id": "b6ff13ea-1c31-4555-93ff-176aa1d436fb",
   "metadata": {},
   "outputs": [
    {
     "ename": "RecursionError",
     "evalue": "maximum recursion depth exceeded",
     "output_type": "error",
     "traceback": [
      "\u001b[0;31m---------------------------------------------------------------------------\u001b[0m",
      "\u001b[0;31mRecursionError\u001b[0m                            Traceback (most recent call last)",
      "Cell \u001b[0;32mIn[2], line 22\u001b[0m\n\u001b[1;32m     18\u001b[0m     s \u001b[38;5;241m+\u001b[39m\u001b[38;5;241m=\u001b[39m one\n\u001b[1;32m     19\u001b[0m     pq_xor(s,idx)\n\u001b[0;32m---> 22\u001b[0m \u001b[43mpq_xor\u001b[49m\u001b[43m(\u001b[49m\u001b[43ms\u001b[49m\u001b[43m,\u001b[49m\u001b[43mInteger\u001b[49m\u001b[43m(\u001b[49m\u001b[38;5;241;43m64\u001b[39;49m\u001b[43m)\u001b[49m\u001b[43m)\u001b[49m\n",
      "Cell \u001b[0;32mIn[2], line 17\u001b[0m, in \u001b[0;36mpq_xor\u001b[0;34m(s, idx)\u001b[0m\n\u001b[1;32m     15\u001b[0m idx \u001b[38;5;241m-\u001b[39m\u001b[38;5;241m=\u001b[39m Integer(\u001b[38;5;241m1\u001b[39m)\n\u001b[1;32m     16\u001b[0m one \u001b[38;5;241m=\u001b[39m Integer(\u001b[38;5;241m1\u001b[39m)\u001b[38;5;241m<<\u001b[39midx\n\u001b[0;32m---> 17\u001b[0m \u001b[43mpq_xor\u001b[49m\u001b[43m(\u001b[49m\u001b[43ms\u001b[49m\u001b[43m,\u001b[49m\u001b[43midx\u001b[49m\u001b[43m)\u001b[49m\n\u001b[1;32m     18\u001b[0m s \u001b[38;5;241m+\u001b[39m\u001b[38;5;241m=\u001b[39m one\n\u001b[1;32m     19\u001b[0m pq_xor(s,idx)\n",
      "Cell \u001b[0;32mIn[2], line 17\u001b[0m, in \u001b[0;36mpq_xor\u001b[0;34m(s, idx)\u001b[0m\n\u001b[1;32m     15\u001b[0m idx \u001b[38;5;241m-\u001b[39m\u001b[38;5;241m=\u001b[39m Integer(\u001b[38;5;241m1\u001b[39m)\n\u001b[1;32m     16\u001b[0m one \u001b[38;5;241m=\u001b[39m Integer(\u001b[38;5;241m1\u001b[39m)\u001b[38;5;241m<<\u001b[39midx\n\u001b[0;32m---> 17\u001b[0m \u001b[43mpq_xor\u001b[49m\u001b[43m(\u001b[49m\u001b[43ms\u001b[49m\u001b[43m,\u001b[49m\u001b[43midx\u001b[49m\u001b[43m)\u001b[49m\n\u001b[1;32m     18\u001b[0m s \u001b[38;5;241m+\u001b[39m\u001b[38;5;241m=\u001b[39m one\n\u001b[1;32m     19\u001b[0m pq_xor(s,idx)\n",
      "    \u001b[0;31m[... skipping similar frames: pq_xor at line 17 (2974 times)]\u001b[0m\n",
      "Cell \u001b[0;32mIn[2], line 17\u001b[0m, in \u001b[0;36mpq_xor\u001b[0;34m(s, idx)\u001b[0m\n\u001b[1;32m     15\u001b[0m idx \u001b[38;5;241m-\u001b[39m\u001b[38;5;241m=\u001b[39m Integer(\u001b[38;5;241m1\u001b[39m)\n\u001b[1;32m     16\u001b[0m one \u001b[38;5;241m=\u001b[39m Integer(\u001b[38;5;241m1\u001b[39m)\u001b[38;5;241m<<\u001b[39midx\n\u001b[0;32m---> 17\u001b[0m \u001b[43mpq_xor\u001b[49m\u001b[43m(\u001b[49m\u001b[43ms\u001b[49m\u001b[43m,\u001b[49m\u001b[43midx\u001b[49m\u001b[43m)\u001b[49m\n\u001b[1;32m     18\u001b[0m s \u001b[38;5;241m+\u001b[39m\u001b[38;5;241m=\u001b[39m one\n\u001b[1;32m     19\u001b[0m pq_xor(s,idx)\n",
      "\u001b[0;31mRecursionError\u001b[0m: maximum recursion depth exceeded"
     ]
    }
   ],
   "source": [
    "p = 62606792596600834911820789765744078048692259104005438531455193685836606544743\n",
    "s = 1361502353718142335290756823026766551003746542140869010376 << 64\n",
    "h = 1828232899563452375539387989530262337663045447357617554114\n",
    "\n",
    "ok = False\n",
    "def pq_xor(s, idx):\n",
    "    global ok \n",
    "    \n",
    "    if ok:\n",
    "        return\n",
    "    if ((s*s)%p) >> 64 == h:\n",
    "        print(s)\n",
    "        return\n",
    "    \n",
    "    idx -= 1\n",
    "    one = 1<<idx\n",
    "    pq_xor(s,idx)\n",
    "    s += one\n",
    "    pq_xor(s,idx)\n",
    "\n",
    "\n",
    "pq_xor(s,64)\n"
   ]
  },
  {
   "cell_type": "code",
   "execution_count": null,
   "id": "2dfc97de-6052-4cca-a096-89549984fbb4",
   "metadata": {},
   "outputs": [],
   "source": []
  }
 ],
 "metadata": {
  "kernelspec": {
   "display_name": "SageMath 10.4",
   "language": "sage",
   "name": "sagemath-10.4"
  },
  "language_info": {
   "codemirror_mode": {
    "name": "ipython",
    "version": 3
   },
   "file_extension": ".py",
   "mimetype": "text/x-python",
   "name": "python",
   "nbconvert_exporter": "python",
   "pygments_lexer": "ipython3",
   "version": "3.12.4"
  }
 },
 "nbformat": 4,
 "nbformat_minor": 5
}
