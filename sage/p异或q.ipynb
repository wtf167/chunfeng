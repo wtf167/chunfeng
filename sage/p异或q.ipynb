{
 "cells": [
  {
   "cell_type": "code",
   "execution_count": null,
   "id": "0de3a5b9-458f-4e9a-bc65-a2609ee81125",
   "metadata": {},
   "outputs": [],
   "source": [
    "N = 18974131303606517108116779221394983351107953418674246808002046468756695163654887691911576186421805200250724321568280195905290442205232517227748969364090141063128939314878515317496341421052786397637775756920934374402845581351369492477771453093640094024467419280993344938852728756640716156565675517813218333062731827741326761259969868455874961692512448497903630657495966824453734032513674207164780712696722182628908402340122033085935890252243199482816629275286868697072041774808266299597266915191885557647884902011866719857934046712299602699100891310652940496655959481394816839239749563560927325844243871359449301928659\n",
    "# 已知hint = (P^Q)\n",
    "hint = 81616793159567136422389758585591940662857576283302867011800445277592420866836093507411736040996742950676922327919824777893118631113867500244368612517429678572193116622664051815861481500355863477109385340706136160893878015686817479333596425572252594901263332045777914789662665019123717287533930696370434650226\n",
    "\n",
    "# 如果hint = (P^Q) >> 400\n",
    "# hint <<= 400\n",
    " \n",
    "PR.<x> = PolynomialRing(Zmod(N))\n",
    "ok = False\n",
    "def pq_xor(tp,tq,idx):\n",
    "    global ok \n",
    "    \n",
    "    if ok:\n",
    "        return\n",
    "    if tp*tq>N:\n",
    "        return\n",
    "    if (tp+(2<<idx))*(tq+(2<<idx))<N:\n",
    "        return\n",
    "\n",
    "    if idx<=400:\n",
    "        try:\n",
    "            f = tp + x\n",
    "            rr = f.monic().small_roots(X=2^400, beta=0.4)\n",
    "            if rr != []:\n",
    "                #print(rr)\n",
    "                #print(tp)\n",
    "                print('p = ',f(rr[0]))\n",
    "                ok = True\n",
    "                return\n",
    "        except:\n",
    "            pass\n",
    "        return\n",
    "    \n",
    "    idx -= 1\n",
    "    b = (hint >> idx)&1\n",
    "    one = 1<<idx\n",
    "    if b==0:\n",
    "        pq_xor(tp,tq,idx)\n",
    "        pq_xor(tp+one,tq+one,idx)\n",
    "    else:\n",
    "        pq_xor(tp+one,tq,idx)\n",
    "        pq_xor(tp,tq+one,idx)\n",
    "\n",
    "\n",
    "#N.nbits()=2048 gift.nbits()=1023 p,q的1024位为1\n",
    "tp = 1<<1023\n",
    "tq = 1<<1023\n",
    "pq_xor(tp,tq,1023)\n"
   ]
  },
  {
   "cell_type": "code",
   "execution_count": null,
   "id": "b546e8b4-4009-47e9-ad1f-0e43d57aca50",
   "metadata": {},
   "outputs": [],
   "source": []
  }
 ],
 "metadata": {
  "kernelspec": {
   "display_name": "SageMath 10.4",
   "language": "sage",
   "name": "sagemath-10.4"
  },
  "language_info": {
   "codemirror_mode": {
    "name": "ipython",
    "version": 3
   },
   "file_extension": ".py",
   "mimetype": "text/x-python",
   "name": "python",
   "nbconvert_exporter": "python",
   "pygments_lexer": "ipython3",
   "version": "3.12.4"
  }
 },
 "nbformat": 4,
 "nbformat_minor": 5
}
