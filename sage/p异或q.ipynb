{
 "cells": [
  {
   "cell_type": "code",
   "execution_count": 1,
   "id": "0de3a5b9-458f-4e9a-bc65-a2609ee81125",
   "metadata": {},
   "outputs": [],
   "source": [
    "N = 124121742433386095705311225695801760362852852566217717331768507632130669748480134091236138576336684757533864152825068590228777378517261386860515005283892370100986166713704470275586380471252125943853415677035145762096542879779198642539963272946667834252038809677113959263289484086409931495568491754725301103953\n",
    "# 已知hint = (P^Q)\n",
    "hint = 1965221422190883011303162401417101213884905181846738618707577668311011858223021486645058050128444366251132733357715120119284320467696315527008827310087312\n",
    "\n",
    "# 如果hint = (P^Q) >> 400\n",
    "# hint <<= 400\n",
    " \n",
    "PR.<x> = PolynomialRing(Zmod(N))\n",
    "ok = False\n",
    "def pq_xor(tp,tq,idx):\n",
    "    global ok \n",
    "    \n",
    "    if ok:\n",
    "        return\n",
    "    if tp*tq>N:\n",
    "        return\n",
    "    if (tp+(2<<idx))*(tq+(2<<idx))<N:\n",
    "        return\n",
    "\n",
    "    if idx<=400:\n",
    "        try:\n",
    "            f = tp + x\n",
    "            rr = f.monic().small_roots(X=2^400, beta=0.4)\n",
    "            if rr != []:\n",
    "                #print(rr)\n",
    "                #print(tp)\n",
    "                print('p = ',f(rr[0]))\n",
    "                ok = True\n",
    "                return\n",
    "        except:\n",
    "            pass\n",
    "        return\n",
    "    \n",
    "    idx -= 1\n",
    "    b = (hint >> idx)&1\n",
    "    one = 1<<idx\n",
    "    if b==0:\n",
    "        pq_xor(tp,tq,idx)\n",
    "        pq_xor(tp+one,tq+one,idx)\n",
    "    else:\n",
    "        pq_xor(tp+one,tq,idx)\n",
    "        pq_xor(tp,tq+one,idx)\n",
    "\n",
    "\n",
    "#N.nbits()=2048 gift.nbits()=1023 p,q的1024位为1\n",
    "tp = 1<<1023\n",
    "tq = 1<<1023\n",
    "pq_xor(tp,tq,1023)\n"
   ]
  },
  {
   "cell_type": "code",
   "execution_count": null,
   "id": "b546e8b4-4009-47e9-ad1f-0e43d57aca50",
   "metadata": {},
   "outputs": [],
   "source": []
  }
 ],
 "metadata": {
  "kernelspec": {
   "display_name": "SageMath 10.4",
   "language": "sage",
   "name": "sagemath-10.4"
  },
  "language_info": {
   "codemirror_mode": {
    "name": "ipython",
    "version": 3
   },
   "file_extension": ".py",
   "mimetype": "text/x-python",
   "name": "python",
   "nbconvert_exporter": "python",
   "pygments_lexer": "ipython3",
   "version": "3.12.4"
  }
 },
 "nbformat": 4,
 "nbformat_minor": 5
}
