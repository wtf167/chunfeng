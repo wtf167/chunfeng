{
 "cells": [
  {
   "cell_type": "code",
   "execution_count": null,
   "id": "e645e7ee-6147-41df-8c10-f5295bd7995a",
   "metadata": {},
   "outputs": [],
   "source": [
    "import libnum\n",
    "\n",
    "def getFullP(low_p, n):\n",
    "    R.<x> = PolynomialRing(Zmod(n), implementation='NTL')\n",
    "    p = x * 2 ^ bit + low_p\n",
    "    root = (p - n).monic().small_roots(X=2 ^ 128, beta=0.4)\n",
    "    if root:\n",
    "        return p(root[0])\n",
    "    return None\n",
    "\n",
    "def phase4(low_d, n, c):\n",
    "    maybe_p = []\n",
    "    for k in range(1, 4):\n",
    "        p = var('p')\n",
    "        p0 = solve_mod([3 * p * low_d == p + k * (n * p - p ^ 2 - n + p)], 2 ^ bit)\n",
    "        maybe_p += [int(x[0]) for x in p0]\n",
    "    # print(maybe_p)\n",
    "    for x in maybe_p:\n",
    "        P = getFullP(x, n)\n",
    "        if P: break\n",
    "\n",
    "    P = int(P)\n",
    "    Q = n // P\n",
    "\n",
    "    assert P * Q == n\n",
    "    print(P)\n",
    "    print(Q)\n",
    "\n",
    "    d = inverse_mod(3, (P - 1) * (Q - 1))\n",
    "    print(d)\n",
    "    print(libnum.n2s(int(power_mod(c, d, n))))\n",
    "\n",
    "bit = 486\n",
    "n = 99233273001596380809501393613886417854988989363311895592445631124571940638105064581031336422148895730117448547059137492090852484233539441265373247940823283633017582469362503632785297924194187912199716752955609363457416190782142095008241313065484612071705711161086869849047664563205898255359661312582650481473\n",
    "e = 3\n",
    "c = 175676150266403937224898870626869248307097859453341599800113943191154294552011908698393750389195590199207971365632903719917006078351629939912360175671032635640354766675409868021903917260597989036476083685690139071290022752606720020238530580507331902326179201548484337939338062870542095137303322195300197\n",
    "d1 = 66155515334397587206334262409257611903325992908874597061630420749714627092070043054020890948099263820078299031372758328060568322822359627510248831960548842374360111368587702677016263988651746874367056185352095585037936034196599496577057035033718066207964292781685419156037246789689219471468151618592221802699\n",
    "print(n)\n",
    "phase4(d1, n, c)"
   ]
  },
  {
   "cell_type": "code",
   "execution_count": null,
   "id": "c89d34b2-38a5-4807-947b-a3bfec5073c8",
   "metadata": {},
   "outputs": [],
   "source": []
  }
 ],
 "metadata": {
  "kernelspec": {
   "display_name": "SageMath 10.4",
   "language": "sage",
   "name": "sagemath-10.4"
  },
  "language_info": {
   "codemirror_mode": {
    "name": "ipython",
    "version": 3
   },
   "file_extension": ".py",
   "mimetype": "text/x-python",
   "name": "python",
   "nbconvert_exporter": "python",
   "pygments_lexer": "ipython3",
   "version": "3.12.4"
  }
 },
 "nbformat": 4,
 "nbformat_minor": 5
}
